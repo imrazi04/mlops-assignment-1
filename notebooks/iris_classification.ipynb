{
 "cells": [
  {
   "cell_type": "code",
   "execution_count": 4,
   "id": "b123c90d",
   "metadata": {},
   "outputs": [],
   "source": [
    "from sklearn.datasets import load_wine\n",
    "from sklearn.model_selection import train_test_split\n",
    "wine = load_wine()\n",
    "X, y = wine.data, wine.target\n",
    "X_train, X_test, y_train, y_test = train_test_split(X, y, test_size=0.2, random_state=42)"
   ]
  },
  {
   "cell_type": "code",
   "execution_count": 5,
   "id": "bc5d8431",
   "metadata": {},
   "outputs": [],
   "source": [
    "from sklearn.preprocessing import StandardScaler\n",
    "scaler = StandardScaler()\n",
    "X_train = scaler.fit_transform(X_train)\n",
    "X_test = scaler.transform(X_test)"
   ]
  },
  {
   "cell_type": "code",
   "execution_count": 8,
   "id": "51ca869d",
   "metadata": {},
   "outputs": [],
   "source": [
    "from sklearn.metrics import accuracy_score, precision_score, recall_score, f1_score, confusion_matrix, ConfusionMatrixDisplay\n",
    "import joblib, matplotlib.pyplot as plt, os\n",
    "def train_evaluate_save(model, model_name):\n",
    "    model.fit(X_train, y_train)\n",
    "    y_pred = model.predict(X_test)\n",
    "    metrics = {\n",
    "        'accuracy': accuracy_score(y_test, y_pred),\n",
    "        'precision': precision_score(y_test, y_pred, average='macro'),\n",
    "        'recall': recall_score(y_test, y_pred, average='macro'),\n",
    "        'f1': f1_score(y_test, y_pred, average='macro')\n",
    "    }\n",
    "    os.makedirs('../models', exist_ok=True)\n",
    "    joblib.dump(model, f'../models/{model_name}.pkl')\n",
    "    cm = confusion_matrix(y_test, y_pred)\n",
    "    disp = ConfusionMatrixDisplay(confusion_matrix=cm, display_labels=wine.target_names)\n",
    "    disp.plot()\n",
    "    plt.savefig(f'../results/{model_name}_confusion_matrix.png')\n",
    "    plt.close()\n",
    "    return metrics"
   ]
  },
  {
   "cell_type": "code",
   "execution_count": 9,
   "id": "21f1850c",
   "metadata": {},
   "outputs": [],
   "source": [
    "from sklearn.linear_model import LogisticRegression\n",
    "lr = LogisticRegression(max_iter=1000)\n",
    "lr_metrics = train_evaluate_save(lr, 'logistic_regression')"
   ]
  },
  {
   "cell_type": "code",
   "execution_count": 10,
   "id": "a95e3e79",
   "metadata": {},
   "outputs": [],
   "source": [
    "from sklearn.ensemble import RandomForestClassifier\n",
    "rf = RandomForestClassifier(n_estimators=100, random_state=42)\n",
    "rf_metrics = train_evaluate_save(rf, 'random_forest')"
   ]
  },
  {
   "cell_type": "code",
   "execution_count": 11,
   "id": "10b4ff4c",
   "metadata": {},
   "outputs": [],
   "source": [
    "from sklearn.svm import SVC\n",
    "svm = SVC(kernel='linear', random_state=42)\n",
    "svm_metrics = train_evaluate_save(svm, 'svm')"
   ]
  },
  {
   "cell_type": "code",
   "execution_count": 14,
   "id": "1feb36eb",
   "metadata": {},
   "outputs": [],
   "source": [
    "import pandas as pd\n",
    "\n",
    "metrics_df = pd.DataFrame([lr_metrics, rf_metrics, svm_metrics], index=['Logistic Regression', 'Random Forest', 'SVM'])\n",
    "\n",
    "metrics_df.to_csv('../results/model_comparison.csv')"
   ]
  },
  {
   "cell_type": "code",
   "execution_count": 16,
   "id": "f7f01be9",
   "metadata": {},
   "outputs": [
    {
     "name": "stderr",
     "output_type": "stream",
     "text": [
      "2025/09/18 12:39:29 INFO mlflow.tracking.fluent: Experiment with name 'Wine Classification' does not exist. Creating a new experiment.\n"
     ]
    }
   ],
   "source": [
    "import mlflow\n",
    "import mlflow.sklearn\n",
    "mlflow.set_experiment(\"Wine Classification\")\n",
    "mlflow.set_tracking_uri(\"http://localhost:5000\")"
   ]
  },
  {
   "cell_type": "code",
   "execution_count": 18,
   "id": "02dc60b2",
   "metadata": {},
   "outputs": [],
   "source": [
    "def train_log_mlflow(model, model_name, params, experiment_name=\"Wine_Classification\"):\n",
    "    mlflow.set_experiment(experiment_name)\n",
    "    with mlflow.start_run(run_name=model_name):\n",
    "        mlflow.log_params(params)\n",
    "        metrics = train_evaluate_save(model, model_name)\n",
    "        for metric, value in metrics.items():\n",
    "            mlflow.log_metric(metric, value)\n",
    "        mlflow.log_artifact(f'../results/{model_name}_confusion_matrix.png')\n",
    "        mlflow.sklearn.log_model(model, \"model\")\n",
    "        return mlflow.active_run().info.run_id"
   ]
  },
  {
   "cell_type": "code",
   "execution_count": 19,
   "id": "8f38cbea",
   "metadata": {},
   "outputs": [
    {
     "name": "stderr",
     "output_type": "stream",
     "text": [
      "2025/09/18 12:43:52 INFO mlflow.tracking.fluent: Experiment with name 'Wine_Classification' does not exist. Creating a new experiment.\n",
      "2025/09/18 12:43:55 WARNING mlflow.models.model: `artifact_path` is deprecated. Please use `name` instead.\n",
      "2025/09/18 12:44:35 WARNING mlflow.models.model: Model logged without a signature and input example. Please set `input_example` parameter when logging the model to auto infer the model signature.\n"
     ]
    },
    {
     "name": "stdout",
     "output_type": "stream",
     "text": [
      "🏃 View run lr_run1 at: http://localhost:5000/#/experiments/201533867294901606/runs/9fba626cb10a4c3bba90e39301ea6cdf\n",
      "🧪 View experiment at: http://localhost:5000/#/experiments/201533867294901606\n"
     ]
    },
    {
     "name": "stderr",
     "output_type": "stream",
     "text": [
      "2025/09/18 12:44:39 WARNING mlflow.models.model: `artifact_path` is deprecated. Please use `name` instead.\n",
      "2025/09/18 12:44:50 WARNING mlflow.models.model: Model logged without a signature and input example. Please set `input_example` parameter when logging the model to auto infer the model signature.\n"
     ]
    },
    {
     "name": "stdout",
     "output_type": "stream",
     "text": [
      "🏃 View run lr_run2 at: http://localhost:5000/#/experiments/201533867294901606/runs/6c5bf7b9ddb94140af8435c5e6ac6c7f\n",
      "🧪 View experiment at: http://localhost:5000/#/experiments/201533867294901606\n"
     ]
    },
    {
     "name": "stderr",
     "output_type": "stream",
     "text": [
      "2025/09/18 12:44:54 WARNING mlflow.models.model: `artifact_path` is deprecated. Please use `name` instead.\n",
      "2025/09/18 12:45:08 WARNING mlflow.models.model: Model logged without a signature and input example. Please set `input_example` parameter when logging the model to auto infer the model signature.\n"
     ]
    },
    {
     "name": "stdout",
     "output_type": "stream",
     "text": [
      "🏃 View run lr_run3 at: http://localhost:5000/#/experiments/201533867294901606/runs/46db1eda2cef45bdbb891bda573ab576\n",
      "🧪 View experiment at: http://localhost:5000/#/experiments/201533867294901606\n"
     ]
    }
   ],
   "source": [
    "lr_params1 = {'max_iter': 1000, 'C': 0.1}\n",
    "lr_run1_id = train_log_mlflow(LogisticRegression(**lr_params1), 'lr_run1', lr_params1)  # Acc: 0.944\n",
    "lr_params2 = {'max_iter': 1000, 'C': 1.0}\n",
    "lr_run2_id = train_log_mlflow(LogisticRegression(**lr_params2), 'lr_run2', lr_params2)  # Acc: 1.0\n",
    "lr_params3 = {'max_iter': 1000, 'C': 10.0}\n",
    "lr_run3_id = train_log_mlflow(LogisticRegression(**lr_params3), 'lr_run3', lr_params3)  # Acc: 1.0"
   ]
  },
  {
   "cell_type": "code",
   "execution_count": 20,
   "id": "50d64097",
   "metadata": {},
   "outputs": [
    {
     "name": "stderr",
     "output_type": "stream",
     "text": [
      "2025/09/18 12:46:18 WARNING mlflow.models.model: `artifact_path` is deprecated. Please use `name` instead.\n",
      "2025/09/18 12:46:31 WARNING mlflow.models.model: Model logged without a signature and input example. Please set `input_example` parameter when logging the model to auto infer the model signature.\n"
     ]
    },
    {
     "name": "stdout",
     "output_type": "stream",
     "text": [
      "🏃 View run rf_run1 at: http://localhost:5000/#/experiments/201533867294901606/runs/0b775fc00c8d4337bf94232f90a996dc\n",
      "🧪 View experiment at: http://localhost:5000/#/experiments/201533867294901606\n"
     ]
    },
    {
     "name": "stderr",
     "output_type": "stream",
     "text": [
      "2025/09/18 12:46:36 WARNING mlflow.models.model: `artifact_path` is deprecated. Please use `name` instead.\n",
      "2025/09/18 12:46:45 WARNING mlflow.models.model: Model logged without a signature and input example. Please set `input_example` parameter when logging the model to auto infer the model signature.\n"
     ]
    },
    {
     "name": "stdout",
     "output_type": "stream",
     "text": [
      "🏃 View run rf_run2 at: http://localhost:5000/#/experiments/201533867294901606/runs/f576221ec80f4674b6bdc5047a3d016a\n",
      "🧪 View experiment at: http://localhost:5000/#/experiments/201533867294901606\n"
     ]
    },
    {
     "name": "stderr",
     "output_type": "stream",
     "text": [
      "2025/09/18 12:46:51 WARNING mlflow.models.model: `artifact_path` is deprecated. Please use `name` instead.\n",
      "2025/09/18 12:46:59 WARNING mlflow.models.model: Model logged without a signature and input example. Please set `input_example` parameter when logging the model to auto infer the model signature.\n"
     ]
    },
    {
     "name": "stdout",
     "output_type": "stream",
     "text": [
      "🏃 View run rf_run3 at: http://localhost:5000/#/experiments/201533867294901606/runs/ea9be25ee30a4c8b8236e389d2ee668c\n",
      "🧪 View experiment at: http://localhost:5000/#/experiments/201533867294901606\n"
     ]
    }
   ],
   "source": [
    "rf_params1 = {'n_estimators': 50, 'random_state': 42}\n",
    "rf_run1_id = train_log_mlflow(RandomForestClassifier(**rf_params1), 'rf_run1', rf_params1)  \n",
    "rf_params2 = {'n_estimators': 100, 'random_state': 42}\n",
    "rf_run2_id = train_log_mlflow(RandomForestClassifier(**rf_params2), 'rf_run2', rf_params2)  \n",
    "rf_params3 = {'n_estimators': 200, 'random_state': 42}\n",
    "rf_run3_id = train_log_mlflow(RandomForestClassifier(**rf_params3), 'rf_run3', rf_params3)"
   ]
  },
  {
   "cell_type": "code",
   "execution_count": 21,
   "id": "fc0a3bcb",
   "metadata": {},
   "outputs": [
    {
     "name": "stderr",
     "output_type": "stream",
     "text": [
      "2025/09/18 12:47:03 WARNING mlflow.models.model: `artifact_path` is deprecated. Please use `name` instead.\n",
      "2025/09/18 12:47:17 WARNING mlflow.models.model: Model logged without a signature and input example. Please set `input_example` parameter when logging the model to auto infer the model signature.\n"
     ]
    },
    {
     "name": "stdout",
     "output_type": "stream",
     "text": [
      "🏃 View run svm_run1 at: http://localhost:5000/#/experiments/201533867294901606/runs/7180d333f4a8422a9e51272fde0c32b7\n",
      "🧪 View experiment at: http://localhost:5000/#/experiments/201533867294901606\n"
     ]
    },
    {
     "name": "stderr",
     "output_type": "stream",
     "text": [
      "2025/09/18 12:47:21 WARNING mlflow.models.model: `artifact_path` is deprecated. Please use `name` instead.\n",
      "2025/09/18 12:47:30 WARNING mlflow.models.model: Model logged without a signature and input example. Please set `input_example` parameter when logging the model to auto infer the model signature.\n"
     ]
    },
    {
     "name": "stdout",
     "output_type": "stream",
     "text": [
      "🏃 View run svm_run2 at: http://localhost:5000/#/experiments/201533867294901606/runs/67afc40efac646b39d1c4dcfd1c0a39a\n",
      "🧪 View experiment at: http://localhost:5000/#/experiments/201533867294901606\n"
     ]
    },
    {
     "name": "stderr",
     "output_type": "stream",
     "text": [
      "2025/09/18 12:47:34 WARNING mlflow.models.model: `artifact_path` is deprecated. Please use `name` instead.\n",
      "2025/09/18 12:47:45 WARNING mlflow.models.model: Model logged without a signature and input example. Please set `input_example` parameter when logging the model to auto infer the model signature.\n"
     ]
    },
    {
     "name": "stdout",
     "output_type": "stream",
     "text": [
      "🏃 View run svm_run3 at: http://localhost:5000/#/experiments/201533867294901606/runs/f3d50c8035724c1fb02af94783e8e5bb\n",
      "🧪 View experiment at: http://localhost:5000/#/experiments/201533867294901606\n"
     ]
    }
   ],
   "source": [
    "svm_params1 = {'kernel': 'linear', 'C': 0.1, 'random_state': 42}\n",
    "svm_run1_id = train_log_mlflow(SVC(**svm_params1), 'svm_run1', svm_params1)  \n",
    "svm_params2 = {'kernel': 'linear', 'C': 1.0, 'random_state': 42}\n",
    "svm_run2_id = train_log_mlflow(SVC(**svm_params2), 'svm_run2', svm_params2)  \n",
    "svm_params3 = {'kernel': 'linear', 'C': 10.0, 'random_state': 42}\n",
    "svm_run3_id = train_log_mlflow(SVC(**svm_params3), 'svm_run3', svm_params3)"
   ]
  },
  {
   "cell_type": "code",
   "execution_count": 22,
   "id": "eba29dc1",
   "metadata": {},
   "outputs": [
    {
     "name": "stderr",
     "output_type": "stream",
     "text": [
      "Successfully registered model 'WineClassifier'.\n",
      "2025/09/18 13:04:09 WARNING mlflow.tracking._model_registry.fluent: Run with id 6c5bf7b9ddb94140af8435c5e6ac6c7f has no artifacts at artifact path 'model', registering model based on models:/m-64fb3632ad784b318c3ce1d0aff18aec instead\n",
      "2025/09/18 13:04:09 INFO mlflow.store.model_registry.abstract_store: Waiting up to 300 seconds for model version to finish creation. Model name: WineClassifier, version 1\n",
      "Created version '1' of model 'WineClassifier'.\n"
     ]
    },
    {
     "data": {
      "text/plain": [
       "<ModelVersion: aliases=[], creation_timestamp=1758182649095, current_stage='None', deployment_job_state=<ModelVersionDeploymentJobState: current_task_name='', job_id='', job_state='DEPLOYMENT_JOB_CONNECTION_STATE_UNSPECIFIED', run_id='', run_state='DEPLOYMENT_JOB_RUN_STATE_UNSPECIFIED'>, description='', last_updated_timestamp=1758182649095, metrics=None, model_id=None, name='WineClassifier', params=None, run_id='6c5bf7b9ddb94140af8435c5e6ac6c7f', run_link='', source='models:/m-64fb3632ad784b318c3ce1d0aff18aec', status='READY', status_message=None, tags={}, user_id='', version='1'>"
      ]
     },
     "execution_count": 22,
     "metadata": {},
     "output_type": "execute_result"
    }
   ],
   "source": [
    "run_id = lr_run2_id\n",
    "mlflow.register_model(f\"runs:/{run_id}/model\", \"WineClassifier\")"
   ]
  },
  {
   "cell_type": "code",
   "execution_count": null,
   "id": "665bd594",
   "metadata": {},
   "outputs": [],
   "source": []
  }
 ],
 "metadata": {
  "kernelspec": {
   "display_name": "venv (3.13.7)",
   "language": "python",
   "name": "python3"
  },
  "language_info": {
   "codemirror_mode": {
    "name": "ipython",
    "version": 3
   },
   "file_extension": ".py",
   "mimetype": "text/x-python",
   "name": "python",
   "nbconvert_exporter": "python",
   "pygments_lexer": "ipython3",
   "version": "3.13.7"
  }
 },
 "nbformat": 4,
 "nbformat_minor": 5
}
